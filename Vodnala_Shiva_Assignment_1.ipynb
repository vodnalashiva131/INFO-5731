{
  "cells": [
    {
      "cell_type": "markdown",
      "metadata": {
        "id": "view-in-github"
      },
      "source": [
        "<a href=\"https://colab.research.google.com/github/unt-iialab/INFO5731_Spring2020/blob/master/Assignments/INFO5731_Assignment_One.ipynb\" target=\"_parent\"><img src=\"https://colab.research.google.com/assets/colab-badge.svg\" alt=\"Open In Colab\"/></a>"
      ]
    },
    {
      "cell_type": "markdown",
      "metadata": {
        "id": "Ryk8D1Q4Wsrp"
      },
      "source": [
        "# **INFO5731 Assignment One**"
      ]
    },
    {
      "cell_type": "markdown",
      "metadata": {
        "id": "qcP6re2g5A5r"
      },
      "source": [
        "This assignment includes range of programming tasks and data analysis exercises, aiming to enhance your Python skills and proficiency in string manipulation, numerical computations, and data science. Follow the instructions carefully and design well-structured Python programs to address each question.\n",
        "\n",
        "Late Submission will have a penalty of 10% reduction for each day after the deadline."
      ]
    },
    {
      "cell_type": "markdown",
      "metadata": {
        "id": "JkzR8cFAyGik"
      },
      "source": [
        "# Question 1 (10 points).\n",
        "\n",
        "The formula that describes the volume V of a hemisphere with radius r is the following:\n",
        "\n",
        "$ V=\\frac{2}{3}\\ast\\ \\pi\\ast\\ r^3 $\n",
        "\n",
        "Write a program to calculate the value of V when r is in the range of even numbers from 1-20. Output the result in the following format:\n",
        "\n",
        "\tr\tV\n",
        "\t2\t…\n",
        "\t4\t…\n",
        "\t6\t…\n",
        "\t.\n",
        "\t.\n",
        "\t.\n",
        "\t20\t…\n"
      ]
    },
    {
      "cell_type": "code",
      "execution_count": null,
      "metadata": {
        "id": "jDyTKYs-yGit",
        "outputId": "71457004-7755-4703-d4f9-acbc73681287"
      },
      "outputs": [
        {
          "name": "stdout",
          "output_type": "stream",
          "text": [
            "r\tV\n",
            "2\t16.76\n",
            "4\t134.04\n",
            "6\t452.39\n",
            "8\t1072.33\n",
            "10\t2094.4\n",
            "12\t3619.11\n",
            "14\t5747.02\n",
            "16\t8578.64\n",
            "18\t12214.51\n",
            "20\t16755.16\n"
          ]
        }
      ],
      "source": [
        "import numpy as np\n",
        "\n",
        "print('r\\tV')\n",
        "for r in range(1,21):\n",
        "\n",
        "    if r%2 ==0:\n",
        "        v = (2/3)*(np.pi)*(r**3)\n",
        "        x = round(v, 2)\n",
        "        print(\"{}\\t{}\".format(r,x))"
      ]
    },
    {
      "cell_type": "markdown",
      "metadata": {
        "id": "90_NR8c5XGWc"
      },
      "source": [
        "# Question 2 (20 points)\n",
        "\n",
        "(a) Write a Python program to generate a sequence of 12 random numbers falling within the range of 50 to 150.\n",
        "\n",
        "(b) Arrange the generated numbers in ascending order. Display the sorted list.\n",
        "\n",
        "(c) Extend the program to arrange the numbers in descending order as well. Present the sorted list accordingly.\n",
        "\n",
        "(d) Compute and output the average of the entire group of generated numbers.\n",
        "\n",
        "(e) Enhance the program to calculate and display the average of the first 6 numbers from both the ascending and descending sorted lists."
      ]
    },
    {
      "cell_type": "code",
      "execution_count": null,
      "metadata": {
        "id": "5QX6bJjGWXY9",
        "outputId": "e8b2611d-3b31-4e3c-9b87-1c4aa900d209"
      },
      "outputs": [
        {
          "name": "stdout",
          "output_type": "stream",
          "text": [
            "{'random number': [67, 140, 139, 143, 101, 121, 120, 121, 107, 65, 140, 94], 'Ascending Numbers': [65, 67, 94, 101, 107, 120, 121, 121, 139, 140, 140, 143], 'Descending Numbers': [143, 140, 140, 139, 121, 121, 120, 107, 101, 94, 67, 65], 'Average of Random Numbers': 113.16666666666667, 'Average of Sum of Ascending Numbers': 92.33333333333333, 'Average of Sum of Descending Numbers': 134.0}\n"
          ]
        }
      ],
      "source": [
        "#Genrating Random Numbers bet ween 50-150\n",
        "import random\n",
        "\n",
        "rand_nums = [random.randint(50,150)\n",
        "             for i in range(12)\n",
        "             ]\n",
        "#Random numbers in Ascending order\n",
        "\n",
        "ascending_nums = sorted(rand_nums)\n",
        "#random numbers in Descending order\n",
        "\n",
        "descending_nums =sorted(rand_nums, reverse= True)\n",
        "#Generating Average of Randomly generated numbers\n",
        "\n",
        "avg = sum(rand_nums)/len(rand_nums)\n",
        "#Generating Average of Ascending and Descending generated numbers\n",
        "ascending_nums_sum = []\n",
        "descending_nums_sum = []\n",
        "\n",
        "for i in range(6):\n",
        "    ascending_nums_sum.append(ascending_nums[i])\n",
        "    descending_nums_sum.append(descending_nums[i])\n",
        "\n",
        "avg_asc_nums = sum(ascending_nums_sum) / 6\n",
        "avg_dec_nums = sum(descending_nums_sum) / 6\n",
        "\n",
        "#Appending all the variable to dictionary and printing it\n",
        "\n",
        "data={\n",
        "    \"random number\" : rand_nums,\n",
        "    \"Ascending Numbers\" : ascending_nums,\n",
        "    \"Descending Numbers\" : descending_nums,\n",
        "    \"Average of Random Numbers\" : avg,\n",
        "    \"Average of Sum of Ascending Numbers\" : avg_asc_nums,\n",
        "    \"Average of Sum of Descending Numbers\" : avg_dec_nums\n",
        "}\n",
        "\n",
        "print(data)\n",
        "\n"
      ]
    },
    {
      "cell_type": "markdown",
      "metadata": {
        "id": "1F_PZdH9Sh49"
      },
      "source": [
        "# Question 3 (20 points).\n",
        "\n",
        "Create a Python program that encompasses various string manipulation task:\n",
        "\n",
        "(a) Prompt the user to input two sentences.\n",
        "\n",
        "(b) Transform each sentence into a list, where each element corresponds to a word in the sentence. For example, if the sentences are \"Hello, how are you doing today?\" and \"This is an example sentence for the program!\"\n",
        "\n",
        "The program should output:\n",
        "['Hello', ',', 'how', 'are', 'you', 'doing', 'today', '?', 'This', 'is', 'an', 'example', 'sentence', 'for', 'the', 'program', '!']\n",
        "\n",
        "(c) Compare the two sentences. Print out a list of words that occur in both sentences.\n",
        "\n",
        "(d) Remove any punctuation from the sentence and print the sanitized sentences. It should remove at least the following characters, but it can remove more: period(“.”), comma (“,”), semicolon (“;”), and colon (“:”).\n",
        "\n",
        "(e) Count the number of vowels in each of the sentences. Print out each vowel and the occurrences  in the each of the two sentences separately, such as:\n",
        "\n",
        "Sentence1: a:2, e:2, i:0, etc.\n",
        "Sentence2: a:1, e:2, i:2, etc.\n",
        "\n",
        "Design a well-structured Python program to execute these tasks efficiently."
      ]
    },
    {
      "cell_type": "code",
      "execution_count": null,
      "metadata": {
        "id": "Y0oOSlsOS0cq",
        "outputId": "dbaadd60-ef14-4904-876b-ad6b8bb9c263"
      },
      "outputs": [
        {
          "name": "stdout",
          "output_type": "stream",
          "text": [
            "1st Sentence My Name is Shiva \n",
            " 2nd Sentence Shiva is My Name\n",
            "{'Words in 1st sentence ': ['My', 'Name', 'is', 'Shiva'], 'Words in 2nd sentence ': ['Shiva', 'is', 'My', 'Name'], 'Common words in both sentence': ['My', 'Name', 'is', 'Shiva']}\n"
          ]
        }
      ],
      "source": [
        "import string\n",
        "\n",
        "sentence_1 = input(\"Enter the first sentence: \")\n",
        "sentence_2 = input(\"Enter the Second sentence: \")\n",
        "\n",
        "\n",
        "split_sentence1_words = [split_words.strip(string.punctuation)\n",
        "                            for split_words in sentence_1.split()]\n",
        "\n",
        "split_sentence2_words = [split_words.strip(string.punctuation)\n",
        "                            for split_words in sentence_2.split()]\n",
        "\n",
        "word_in_common = []\n",
        "\n",
        "for split_words in split_sentence1_words:\n",
        "    if split_words in split_sentence2_words and split_words not in word_in_common:\n",
        "        word_in_common.append(split_words)\n",
        "\n",
        "print(\"1st Sentence\",sentence_1,\"\\n 2nd Sentence\",sentence_2)\n",
        "\n",
        "data={\n",
        "    \"Words in 1st sentence \":split_sentence1_words,\n",
        "    \"Words in 2nd sentence \":split_sentence2_words,\n",
        "    \"Common words in both sentence\":word_in_common\n",
        "}\n",
        "\n",
        "print(data)\n"
      ]
    },
    {
      "cell_type": "markdown",
      "metadata": {
        "id": "OP4-5qxAtInv"
      },
      "source": [
        "# Question 4 (20 Points)"
      ]
    },
    {
      "cell_type": "markdown",
      "metadata": {
        "id": "uzN4_hDptK9U"
      },
      "source": [
        "Design and implement a simple command-line calculator program. The program should handle both integers and floating-point numbers.\n",
        "\n",
        "(a) Write program that takes a mathematical expression as input and evaluates it. The program should support addition, subtraction, multiplication, and division.\n",
        "\n",
        "(b) Extend the calculator to handle parentheses in mathematical expressions. Implement the necessary logic to evaluate expressions with nested parentheses.\n",
        "\n",
        "(c) Enhance your calculator to include additional mathematical operations such as exponentiation, square root, and modulus.\n",
        "\n",
        "(d) Implement error handling in the calculator program. Handle cases such as division by zero and invalid input expressions. Provide meaningful error messages.\n",
        "\n",
        "(e) Implement a command to exit the calculator."
      ]
    },
    {
      "cell_type": "code",
      "execution_count": null,
      "metadata": {
        "id": "8nQnVxjJuYtu",
        "outputId": "f74dc44c-1b32-4f70-db87-23894fa2d013"
      },
      "outputs": [
        {
          "name": "stdout",
          "output_type": "stream",
          "text": [
            "Welcome to Simple Calculator!\n",
            "Enter 'exit' to quit.\n",
            "Enter mathematical expression: 2+4\n",
            "Result: 6\n",
            "Enter mathematical expression: 5-6\n",
            "Result: -1\n",
            "Enter mathematical expression: 7/5\n",
            "Result: 1.4\n",
            "Enter mathematical expression: 384\n",
            "Result: 384\n",
            "Enter mathematical expression: 3*4\n",
            "Result: 12\n",
            "Enter mathematical expression: 3^2\n",
            "3**2\n",
            "Result: 9\n",
            "Enter mathematical expression: exit\n",
            "Exiting...from calculator\n"
          ]
        }
      ],
      "source": [
        "# Your code here\n",
        "import math\n",
        "\n",
        "print(\"Welcome to Simple Calculator!\")\n",
        "print(\"Enter 'exit' to quit.\")\n",
        "\n",
        "while True:\n",
        "    expression = input(\"Enter mathematical expression: \")\n",
        "\n",
        "    if expression.lower() == 'exit':\n",
        "        print(\"Exiting...from calculator\")\n",
        "        break\n",
        "    try:\n",
        "        if '^' in expression:\n",
        "            expression = expression.replace('^',\"**\")\n",
        "            print(expression)\n",
        "        result = eval(expression)\n",
        "        print(\"Result:\", result)\n",
        "    except ZeroDivisionError:\n",
        "        print(\"Error: Division by zero\")\n",
        "    except:\n",
        "        print(\"Error: Invalid expression\")\n"
      ]
    },
    {
      "cell_type": "markdown",
      "metadata": {
        "id": "z3tBE7E-Xn5X"
      },
      "source": [
        "# Question 5 (30 points).\n",
        "\n",
        "In the field of Data Science, data is often formatted as a comma-delimited (CSV) file, where each line in a file corresponds to a field's value. Refer to Chapter 9 (p. 106) for more information on comma-delimited files.\n",
        "\n",
        "To answer this question, you will need to download the file [Assignment1_denton_housing.csv](https://raw.githubusercontent.com/unt-iialab/info5731-spring2022/main/assignments/Assignment1_denton_housing.csv) included with this assignment. The file contains statistics about housing in the city of Denton from 2008 to 2014. Write a program to implement the following questions.\n",
        "\n",
        "(a) (5 pts) Calculate the difference in the number of Occupied Housing Units from year to year and print it. The difference must be calculated for the consecutive years such as 2008-2009, 2009-2010 etc. Finally, print the values in the ascending order.\n",
        "\n",
        "(b) (5 pts) For all the years, calculate the percentage of housing units which are vacant an occupied. Print the results in the following format:\n",
        "\n",
        "Year Vacant Housing Units Occupied Housing Units\n",
        "\n",
        "    2008  30%   70%                          \n",
        "\t2009 ----- -----\n",
        "\t2010 ----- -----\n",
        "    2011 ----- -----\n",
        "\t2012 ----- -----\n",
        "    2013 ----- -----\n",
        "\t2014 ----- -----\n",
        "  \n",
        "  \n",
        "\n",
        "(c) (10 pts) Calculate and print the valued and years in which the highest number of housing units were vacant and occupied. Print the results in the following format:  \n",
        "\n",
        "                              Year\tValue\n",
        "\tVacant Housing Units\t  -----   -----\n",
        "\tOccupied Housing Units\t-----   -----\n",
        "\n",
        "(d) (10 pts) Calculate the harmonic mean of the total housing units and print it out. You can find the information about harmonic mean here: https://ncalculators.com/statistics/harmonic-mean-calculator.htm"
      ]
    },
    {
      "cell_type": "code",
      "execution_count": null,
      "metadata": {
        "id": "lqGYuHBhcsRH",
        "outputId": "eb447cbb-c8de-40c2-c74e-182025e1f15e"
      },
      "outputs": [
        {
          "name": "stdout",
          "output_type": "stream",
          "text": [
            "    year             title_field  value\n",
            "2   2014  Occupied Housing Units  46295\n",
            "5   2013  Occupied Housing Units  43673\n",
            "8   2012  Occupied Housing Units  42108\n",
            "11  2011  Occupied Housing Units  40704\n",
            "14  2010  Occupied Housing Units  41007\n",
            "17  2009  Occupied Housing Units  35916\n",
            "20  2008  Occupied Housing Units  36711\n",
            "\n",
            "   year  difference\n",
            "0  2008         NaN\n",
            "1  2009      -795.0\n",
            "2  2010      5091.0\n",
            "3  2011      -303.0\n",
            "4  2012      1404.0\n",
            "5  2013      1565.0\n",
            "6  2014      2622.0\n",
            "\n",
            "Percentage of Vacant and Occupied Housing Units for all years:\n",
            " year  % Vacant  % Occupied\n",
            " 2014      5.73       94.27\n",
            " 2013      8.80       91.20\n",
            " 2012      6.68       93.32\n",
            " 2011      9.38       90.62\n",
            " 2010      8.14       91.86\n",
            " 2009      9.07       90.93\n",
            " 2008     10.88       89.12\n",
            "                          Year    Value\n",
            "Vacant Housing Units:     2008    4483\n",
            "Occupied Housing Units:   2014    46295\n",
            "Harmonic Mean of Total Housing Units: 2.2409322278067675e-05\n"
          ]
        }
      ],
      "source": [
        "# Your code here\n",
        "import pandas as pd\n",
        "from statistics import harmonic_mean\n",
        "\n",
        "d1 = pd.read_csv(r\"C:\\Users\\shiva\\Downloads\\Assignment1_denton_housing.csv\")\n",
        "\n",
        "'''a) Calculate the difference in the number of Occupied Housing Units from\n",
        "year to year and print it.'''\n",
        "\n",
        "Occupied_Housing_Units = d1[d1[\"title_field\"]== \"Occupied Housing Units\"]\n",
        "print(Occupied_Housing_Units)\n",
        "\n",
        "Occupied_Housing_Units= Occupied_Housing_Units.sort_values(by='year')\n",
        "\n",
        "Occupied_Housing_Units['difference'] = Occupied_Housing_Units['value'].diff()\n",
        "print()\n",
        "\n",
        "print(Occupied_Housing_Units[['year', 'difference']].reset_index(drop=True))\n",
        "\n",
        "#b) For all the years, calculate the percentage of housing units which are vacant an occupied.\n",
        "\n",
        "Total_Housing_Units = d1[d1['title_field'] == 'Total Housing Units']\n",
        "vacant_units = d1[d1['title_field'] == 'Vacant Housing Units']\n",
        "total = pd.merge(Total_Housing_Units, vacant_units, on='year', suffixes=('_total', '_vacant'))\n",
        "total['% Vacant'] = round((total['value_vacant'] /total['value_total']) * 100,2)\n",
        "total['% Occupied'] = round(100 - total['% Vacant'],2)\n",
        "\n",
        "print(\"\\nPercentage of Vacant and Occupied Housing Units for all years:\")\n",
        "print(total[['year', '% Vacant', '% Occupied']].to_string(index=False))\n",
        "\n",
        "#c) For all the years, calculate the percentage of housing units which are vacant an occupied.\n",
        "\n",
        "max_vacant = vacant_units.loc[vacant_units['value'].idxmax()]\n",
        "max_vacant_year = max_vacant['year']\n",
        "max_vacant_value = max_vacant['value']\n",
        "\n",
        "max_occupied = Occupied_Housing_Units.loc[Occupied_Housing_Units['value'].idxmax()]\n",
        "max_occupied_year = max_occupied['year']\n",
        "max_occupied_value = max_occupied['value']\n",
        "\n",
        "\n",
        "print(\"                          Year    Value\")\n",
        "print(f\"Vacant Housing Units:     {max_vacant['year']}    {max_vacant['value']}\")\n",
        "print(f\"Occupied Housing Units:   {max_occupied['year']}    {max_occupied['value']}\")\n",
        "\n",
        "\n",
        "#d) Calculate the harmonic mean of the total housing units and print it out. You can find the information about harmonic mean here:\n",
        "\n",
        "harmonic_mean_total_units = harmonic_mean(1 / Total_Housing_Units['value'])\n",
        "\n",
        "\n",
        "print(\"Harmonic Mean of Total Housing Units:\", harmonic_mean_total_units)\n",
        "\n",
        "\n"
      ]
    },
    {
      "cell_type": "markdown",
      "metadata": {
        "id": "q8BFCvWp32cf"
      },
      "source": [
        "# Mandatory Question\n",
        "\n",
        "Provide your thoughts on the assignment. What did you find challenging, and what aspects did you enjoy? Your opinion on the provided time to complete the assignment. Share any suggestions for improvement. Your feedback will be valuable for enhancing the learning experience."
      ]
    },
    {
      "cell_type": "code",
      "execution_count": null,
      "metadata": {
        "id": "_e557s2w4BpK"
      },
      "outputs": [],
      "source": [
        "# Write your response below\n",
        "Thoughts aboout the assignments are , it is really simple for me to do , i have an working experience of 2 years as a python developer in india and i am currently i am in my CPT now in python full stack development .the most challenging part is to learn and write ,the conditions which i have used are very common expressions and, at last the suggetions are python is easy to learn and it more to explore and learn ."
      ]
    },
    {
      "cell_type": "code",
      "execution_count": null,
      "metadata": {
        "id": "Q3DI0GZRT1xA"
      },
      "outputs": [],
      "source": []
    }
  ],
  "metadata": {
    "colab": {
      "provenance": []
    },
    "kernelspec": {
      "display_name": "Python 3.11.0 64-bit",
      "language": "python",
      "name": "python3"
    },
    "language_info": {
      "codemirror_mode": {
        "name": "ipython",
        "version": 3
      },
      "file_extension": ".py",
      "mimetype": "text/x-python",
      "name": "python",
      "nbconvert_exporter": "python",
      "pygments_lexer": "ipython3",
      "version": "3.11.0"
    },
    "vscode": {
      "interpreter": {
        "hash": "07bf2e0fcd790eb3c900db4935f9ba6ea43c1c1bb69b00af6a6283ca1c5858b3"
      }
    }
  },
  "nbformat": 4,
  "nbformat_minor": 0
}